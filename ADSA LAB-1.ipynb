{
  "cells": [
    {
      "cell_type": "code",
      "source": [
        "Name: Mohammed Numaan Ahmed\n",
        "M.Tech CSE\n",
        "2503B05127"
      ],
      "metadata": {
        "id": "TZqea3NzFoJb"
      },
      "execution_count": null,
      "outputs": []
    },
    {
      "cell_type": "code",
      "source": [
        "class PatientNode:\n",
        "  def __init__(self, name, age, patient_id):\n",
        "    self.name = name\n",
        "    self.age = age\n",
        "    self.patient_id = patient_id\n",
        "    self.next = None\n",
        "\n",
        "class PatientList:\n",
        "  def __init__(self):\n",
        "    self.head = None\n",
        "\n",
        "  def insert_patient(self, name, age, patient_id):\n",
        "    new_node = PatientNode(name, age, patient_id)\n",
        "    if not self.head:\n",
        "      self.head = new_node\n",
        "    else:\n",
        "      current = self.head\n",
        "      while current.next:\n",
        "        current = current.next\n",
        "      current.next = new_node\n",
        "    print(f\"Inserted: {name}, Age: {age}, ID: {patient_id}\")\n",
        "\n",
        "  def delete(self, patient_id):\n",
        "    current = self.head\n",
        "    prev = None\n",
        "    while current:\n",
        "      if current.patient_id == patient_id:\n",
        "        if prev:\n",
        "          prev.next = current.next\n",
        "        else:\n",
        "          self.head = current.next\n",
        "        print(f\"Deleted: {patient_id}\")\n",
        "        return\n",
        "      prev = current\n",
        "      current = current.next\n",
        "    print(f\"Patient with ID {patient_id} not found.\")\n",
        "\n",
        "  def display(self):\n",
        "    current = self.head\n",
        "    if not current:\n",
        "      print(\"No patients in the list.\")\n",
        "      return\n",
        "    print(\"Patient List:\")\n",
        "    while current:\n",
        "      print(f\"Name: {current.name}, Age: {current.age}, ID: {current.patient_id}\")\n",
        "      current = current.next\n",
        "\n",
        "plist = PatientList()\n",
        "plist.insert_patient(\"Kiran\", 21, 201)\n",
        "plist.insert_patient(\"Vinay\", 33, 202)\n",
        "plist.insert_patient(\"Tarun\", 19, 203)\n",
        "plist.insert_patient(\"Sanju\", 49, 204)\n",
        "\n",
        "plist.display()\n",
        "\n",
        "plist.delete(202)\n",
        "plist.display()\n",
        "\n",
        "plist.delete(83)\n",
        "plist.display()"
      ],
      "metadata": {
        "id": "oMm6dZkWFt2T",
        "outputId": "634d2839-14da-4552-898e-87529c33423a",
        "colab": {
          "base_uri": "https://localhost:8080/"
        }
      },
      "execution_count": 4,
      "outputs": [
        {
          "output_type": "stream",
          "name": "stdout",
          "text": [
            "Inserted: Kiran, Age: 21, ID: 201\n",
            "Inserted: Vinay, Age: 33, ID: 202\n",
            "Inserted: Tarun, Age: 19, ID: 203\n",
            "Inserted: Sanju, Age: 49, ID: 204\n",
            "Patient List:\n",
            "Name: Kiran, Age: 21, ID: 201\n",
            "Name: Vinay, Age: 33, ID: 202\n",
            "Name: Tarun, Age: 19, ID: 203\n",
            "Name: Sanju, Age: 49, ID: 204\n",
            "Deleted: 202\n",
            "Patient List:\n",
            "Name: Kiran, Age: 21, ID: 201\n",
            "Name: Tarun, Age: 19, ID: 203\n",
            "Name: Sanju, Age: 49, ID: 204\n",
            "Patient with ID 83 not found.\n",
            "Patient List:\n",
            "Name: Kiran, Age: 21, ID: 201\n",
            "Name: Tarun, Age: 19, ID: 203\n",
            "Name: Sanju, Age: 49, ID: 204\n"
          ]
        }
      ]
    }
  ],
  "metadata": {
    "colab": {
      "name": "Welcome To Colab",
      "toc_visible": true,
      "provenance": []
    },
    "kernelspec": {
      "display_name": "Python 3",
      "name": "python3"
    }
  },
  "nbformat": 4,
  "nbformat_minor": 0
}